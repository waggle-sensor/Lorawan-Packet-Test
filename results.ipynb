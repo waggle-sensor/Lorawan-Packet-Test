{
 "cells": [
  {
   "cell_type": "markdown",
   "id": "2f5ae14c",
   "metadata": {},
   "source": [
    "# Environment Set up"
   ]
  },
  {
   "cell_type": "markdown",
   "id": "8c6afbe0",
   "metadata": {},
   "source": [
    "# Lorawan Packet Test"
   ]
  }
 ],
 "metadata": {
  "language_info": {
   "name": "python"
  }
 },
 "nbformat": 4,
 "nbformat_minor": 5
}
